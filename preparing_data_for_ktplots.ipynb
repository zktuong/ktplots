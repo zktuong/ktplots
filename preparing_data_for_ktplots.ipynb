{
 "cells": [
  {
   "cell_type": "code",
   "execution_count": 1,
   "metadata": {},
   "outputs": [],
   "source": [
    "cpdb_file_path = \"/Users/uqztuong/Documents/GitHub/CellphoneDB/notebooks/cpdb_output/db_inputs/cellphonedb_07_31_2023_211630.zip\"\n",
    "meta_file_path = \"/Users/uqztuong/Documents/GitHub/ktplotspy/data/meta.txt\"\n",
    "counts_file_path = \"/Users/uqztuong/Documents/GitHub/ktplotspy/data/kidneyimmune.h5ad\"\n",
    "degs_file_path = \"/Users/uqztuong/Documents/GitHub/ktplotspy/data/degs.tsv\"\n",
    "out_path_degs = \"/Users/uqztuong/Documents/GitHub/ktplotspy/data/out_v5_degs\"\n",
    "out_path_stat = \"/Users/uqztuong/Documents/GitHub/ktplotspy/data/out_v5_stat\""
   ]
  },
  {
   "cell_type": "code",
   "execution_count": 2,
   "metadata": {},
   "outputs": [
    {
     "data": {
      "text/plain": [
       "AnnData object with n_obs × n_vars = 1000 × 19969\n",
       "    obs: 'celltype', 'compartment', 'Experiment', 'Project', 'n_genes', 'percent_mito', 'n_counts', 'Experiment_celltype', 'ident'\n",
       "    obsm: 'X_pca', 'X_umap'\n",
       "    layers: 'logcounts'"
      ]
     },
     "execution_count": 2,
     "metadata": {},
     "output_type": "execute_result"
    }
   ],
   "source": [
    "import scanpy as sc\n",
    "\n",
    "adata = sc.read_h5ad(counts_file_path)\n",
    "adata"
   ]
  },
  {
   "cell_type": "code",
   "execution_count": 3,
   "metadata": {},
   "outputs": [],
   "source": [
    "import pandas as pd\n",
    "\n",
    "df = pd.DataFrame(adata.obs[\"celltype\"]).reset_index()\n",
    "df.columns = [\"barcode_sample\", \"cell_type\"]\n",
    "df.to_csv(meta_file_path, sep=\"\\t\", index=False)"
   ]
  },
  {
   "cell_type": "code",
   "execution_count": 4,
   "metadata": {},
   "outputs": [
    {
     "data": {
      "text/html": [
       "<div>\n",
       "<style scoped>\n",
       "    .dataframe tbody tr th:only-of-type {\n",
       "        vertical-align: middle;\n",
       "    }\n",
       "\n",
       "    .dataframe tbody tr th {\n",
       "        vertical-align: top;\n",
       "    }\n",
       "\n",
       "    .dataframe thead th {\n",
       "        text-align: right;\n",
       "    }\n",
       "</style>\n",
       "<table border=\"1\" class=\"dataframe\">\n",
       "  <thead>\n",
       "    <tr style=\"text-align: right;\">\n",
       "      <th></th>\n",
       "      <th>barcode_sample</th>\n",
       "      <th>cell_type</th>\n",
       "    </tr>\n",
       "  </thead>\n",
       "  <tbody>\n",
       "    <tr>\n",
       "      <th>0</th>\n",
       "      <td>4602STDY7090428_CGTGTCTAGTCACGCC-1</td>\n",
       "      <td>CD4T cell</td>\n",
       "    </tr>\n",
       "    <tr>\n",
       "      <th>1</th>\n",
       "      <td>CZIKidney7587405_GTGCTTCCACACCGAC-1</td>\n",
       "      <td>MNPa(mono)</td>\n",
       "    </tr>\n",
       "    <tr>\n",
       "      <th>2</th>\n",
       "      <td>4602STDY6930852_ACATACGAGATATGCA-1</td>\n",
       "      <td>NKT cell</td>\n",
       "    </tr>\n",
       "    <tr>\n",
       "      <th>3</th>\n",
       "      <td>4602STDY6976427_TCTATTGAGACAATAC-1</td>\n",
       "      <td>Neutrophil</td>\n",
       "    </tr>\n",
       "    <tr>\n",
       "      <th>4</th>\n",
       "      <td>4602STDY6930853_CATCGAAAGATGTTAG-1</td>\n",
       "      <td>MNPc(DC)</td>\n",
       "    </tr>\n",
       "    <tr>\n",
       "      <th>...</th>\n",
       "      <td>...</td>\n",
       "      <td>...</td>\n",
       "    </tr>\n",
       "    <tr>\n",
       "      <th>995</th>\n",
       "      <td>4602STDY6949181_CGAGAAGGTAAGGGAA-1</td>\n",
       "      <td>MNPa(mono)</td>\n",
       "    </tr>\n",
       "    <tr>\n",
       "      <th>996</th>\n",
       "      <td>4602STDY6976427_TCAACGATCGGCTACG-1</td>\n",
       "      <td>NKT cell</td>\n",
       "    </tr>\n",
       "    <tr>\n",
       "      <th>997</th>\n",
       "      <td>CZIKidney7632803_TTCTCCTTCCCAAGAT-1</td>\n",
       "      <td>B cell</td>\n",
       "    </tr>\n",
       "    <tr>\n",
       "      <th>998</th>\n",
       "      <td>CZIKidney7587406_CGTTGGGCAATGAATG-1</td>\n",
       "      <td>CD4T cell</td>\n",
       "    </tr>\n",
       "    <tr>\n",
       "      <th>999</th>\n",
       "      <td>4602STDY7018630_GTGTGCGTCGGAAACG-1</td>\n",
       "      <td>MNPc(DC)</td>\n",
       "    </tr>\n",
       "  </tbody>\n",
       "</table>\n",
       "<p>1000 rows × 2 columns</p>\n",
       "</div>"
      ],
      "text/plain": [
       "                          barcode_sample   cell_type\n",
       "0     4602STDY7090428_CGTGTCTAGTCACGCC-1   CD4T cell\n",
       "1    CZIKidney7587405_GTGCTTCCACACCGAC-1  MNPa(mono)\n",
       "2     4602STDY6930852_ACATACGAGATATGCA-1    NKT cell\n",
       "3     4602STDY6976427_TCTATTGAGACAATAC-1  Neutrophil\n",
       "4     4602STDY6930853_CATCGAAAGATGTTAG-1    MNPc(DC)\n",
       "..                                   ...         ...\n",
       "995   4602STDY6949181_CGAGAAGGTAAGGGAA-1  MNPa(mono)\n",
       "996   4602STDY6976427_TCAACGATCGGCTACG-1    NKT cell\n",
       "997  CZIKidney7632803_TTCTCCTTCCCAAGAT-1      B cell\n",
       "998  CZIKidney7587406_CGTTGGGCAATGAATG-1   CD4T cell\n",
       "999   4602STDY7018630_GTGTGCGTCGGAAACG-1    MNPc(DC)\n",
       "\n",
       "[1000 rows x 2 columns]"
      ]
     },
     "execution_count": 4,
     "metadata": {},
     "output_type": "execute_result"
    }
   ],
   "source": [
    "df"
   ]
  },
  {
   "cell_type": "code",
   "execution_count": 5,
   "metadata": {},
   "outputs": [],
   "source": [
    "sc.tl.rank_genes_groups(adata, groupby=\"celltype\", method=\"wilcoxon\")"
   ]
  },
  {
   "cell_type": "code",
   "execution_count": 6,
   "metadata": {},
   "outputs": [],
   "source": [
    "# Conver to dense matrix for Seurat\n",
    "adata.X = adata.X.toarray()"
   ]
  },
  {
   "cell_type": "code",
   "execution_count": 7,
   "metadata": {},
   "outputs": [],
   "source": [
    "import rpy2.rinterface_lib.callbacks\n",
    "import logging\n",
    "# Ignore R warning messages\n",
    "#Note: this can be commented out to get more verbose R output\n",
    "rpy2.rinterface_lib.callbacks.logger.setLevel(logging.ERROR)\n",
    "import anndata2ri\n",
    "anndata2ri.activate()\n",
    "%load_ext rpy2.ipython\n"
   ]
  },
  {
   "cell_type": "code",
   "execution_count": 8,
   "metadata": {},
   "outputs": [
    {
     "name": "stderr",
     "output_type": "stream",
     "text": [
      "/opt/homebrew/Caskroom/mambaforge/base/envs/ktplots/lib/python3.11/functools.py:909: NotConvertedWarning: Conversion 'py2rpy' not defined for objects of type '<class 'NoneType'>'\n",
      "  return dispatch(args[0].__class__)(*args, **kw)\n"
     ]
    },
    {
     "name": "stdout",
     "output_type": "stream",
     "text": [
      "class: SingleCellExperiment \n",
      "dim: 19969 1000 \n",
      "metadata(1): rank_genes_groups\n",
      "assays(2): X logcounts\n",
      "rownames(19969): RP11-34P13.7 FO538757.2 ... AC004556.1 AC240274.1\n",
      "rowData names(0):\n",
      "colnames(1000): 4602STDY7090428_CGTGTCTAGTCACGCC-1\n",
      "  CZIKidney7587405_GTGCTTCCACACCGAC-1 ...\n",
      "  CZIKidney7587406_CGTTGGGCAATGAATG-1\n",
      "  4602STDY7018630_GTGTGCGTCGGAAACG-1\n",
      "colData names(9): celltype compartment ... Experiment_celltype ident\n",
      "reducedDimNames(2): PCA UMAP\n",
      "mainExpName: NULL\n",
      "altExpNames(0):\n"
     ]
    }
   ],
   "source": [
    "\n",
    "%%R -i adata\n",
    "adata"
   ]
  },
  {
   "cell_type": "code",
   "execution_count": 9,
   "metadata": {},
   "outputs": [
    {
     "name": "stdout",
     "output_type": "stream",
     "text": [
      "\n",
      "    WARNING: The R package \"reticulate\" only fixed recently\n",
      "    an issue that caused a segfault when used with rpy2:\n",
      "    https://github.com/rstudio/reticulate/pull/1188\n",
      "    Make sure that you use a version of that package that includes\n",
      "    the fix.\n",
      "    "
     ]
    },
    {
     "data": {
      "text/plain": [
       "The legacy packages maptools, rgdal, and rgeos, underpinning the sp package,\n",
       "which was just loaded, will retire in October 2023.\n",
       "Please refer to R-spatial evolution reports for details, especially\n",
       "https://r-spatial.org/r/2023/05/15/evolution4.html.\n",
       "It may be desirable to make the sf package available;\n",
       "package maintainers should consider adding sf to Suggests:.\n",
       "The sp package is now running under evolution status 2\n",
       "     (status 2 uses the sf package in place of rgdal)\n",
       "Attaching SeuratObject\n",
       "\n",
       "Attaching package: ‘Seurat’\n",
       "\n",
       "The following object is masked from ‘package:SummarizedExperiment’:\n",
       "\n",
       "    Assays\n",
       "\n"
      ]
     },
     "metadata": {},
     "output_type": "display_data"
    }
   ],
   "source": [
    "%%R\n",
    "library(Seurat)\n",
    "so = as.Seurat(adata, counts = \"X\", data = \"X\")\n",
    "Idents(so) = so$celltype"
   ]
  },
  {
   "cell_type": "code",
   "execution_count": 10,
   "metadata": {},
   "outputs": [
    {
     "data": {
      "text/plain": [
       "In addition: Warning messages:\n",
       "1: glm.fit: fitted probabilities numerically 0 or 1 occurred \n",
       "2: glm.fit: fitted probabilities numerically 0 or 1 occurred \n",
       "3: glm.fit: fitted probabilities numerically 0 or 1 occurred \n",
       "4: glm.fit: fitted probabilities numerically 0 or 1 occurred \n",
       "5: glm.fit: fitted probabilities numerically 0 or 1 occurred \n",
       "6: glm.fit: fitted probabilities numerically 0 or 1 occurred \n",
       "7: glm.fit: fitted probabilities numerically 0 or 1 occurred \n",
       "8: glm.fit: fitted probabilities numerically 0 or 1 occurred \n"
      ]
     },
     "metadata": {},
     "output_type": "display_data"
    }
   ],
   "source": [
    "%%R -o DEGs\n",
    "\n",
    "## OPTION 1 - compute DEGs for all cell types\n",
    "## Extract DEGs for each cell_type\n",
    "DEGs <- FindAllMarkers(so, \n",
    "                       test.use = 'LR', \n",
    "                       verbose = F, \n",
    "                       only.pos = T, \n",
    "                       random.seed = 1, \n",
    "                       logfc.threshold = 0.2, \n",
    "                       min.pct = 0.1, \n",
    "                       return.thresh = 0.05)"
   ]
  },
  {
   "cell_type": "code",
   "execution_count": 11,
   "metadata": {},
   "outputs": [
    {
     "data": {
      "text/html": [
       "<div>\n",
       "<style scoped>\n",
       "    .dataframe tbody tr th:only-of-type {\n",
       "        vertical-align: middle;\n",
       "    }\n",
       "\n",
       "    .dataframe tbody tr th {\n",
       "        vertical-align: top;\n",
       "    }\n",
       "\n",
       "    .dataframe thead th {\n",
       "        text-align: right;\n",
       "    }\n",
       "</style>\n",
       "<table border=\"1\" class=\"dataframe\">\n",
       "  <thead>\n",
       "    <tr style=\"text-align: right;\">\n",
       "      <th></th>\n",
       "      <th>p_val</th>\n",
       "      <th>avg_log2FC</th>\n",
       "      <th>pct.1</th>\n",
       "      <th>pct.2</th>\n",
       "      <th>p_val_adj</th>\n",
       "      <th>cluster</th>\n",
       "      <th>gene</th>\n",
       "    </tr>\n",
       "  </thead>\n",
       "  <tbody>\n",
       "    <tr>\n",
       "      <th>LYZ</th>\n",
       "      <td>5.629062e-144</td>\n",
       "      <td>1.542476</td>\n",
       "      <td>0.975</td>\n",
       "      <td>0.276</td>\n",
       "      <td>1.124067e-139</td>\n",
       "      <td>MNPa(mono)</td>\n",
       "      <td>LYZ</td>\n",
       "    </tr>\n",
       "    <tr>\n",
       "      <th>S100A9</th>\n",
       "      <td>2.132182e-126</td>\n",
       "      <td>1.785355</td>\n",
       "      <td>0.905</td>\n",
       "      <td>0.149</td>\n",
       "      <td>4.257754e-122</td>\n",
       "      <td>MNPa(mono)</td>\n",
       "      <td>S100A9</td>\n",
       "    </tr>\n",
       "    <tr>\n",
       "      <th>VCAN</th>\n",
       "      <td>1.476268e-118</td>\n",
       "      <td>1.454228</td>\n",
       "      <td>0.760</td>\n",
       "      <td>0.044</td>\n",
       "      <td>2.947959e-114</td>\n",
       "      <td>MNPa(mono)</td>\n",
       "      <td>VCAN</td>\n",
       "    </tr>\n",
       "    <tr>\n",
       "      <th>FCN1</th>\n",
       "      <td>1.039374e-112</td>\n",
       "      <td>1.495729</td>\n",
       "      <td>0.893</td>\n",
       "      <td>0.124</td>\n",
       "      <td>2.075527e-108</td>\n",
       "      <td>MNPa(mono)</td>\n",
       "      <td>FCN1</td>\n",
       "    </tr>\n",
       "    <tr>\n",
       "      <th>S100A8</th>\n",
       "      <td>1.765145e-111</td>\n",
       "      <td>1.804471</td>\n",
       "      <td>0.860</td>\n",
       "      <td>0.100</td>\n",
       "      <td>3.524819e-107</td>\n",
       "      <td>MNPa(mono)</td>\n",
       "      <td>S100A8</td>\n",
       "    </tr>\n",
       "  </tbody>\n",
       "</table>\n",
       "</div>"
      ],
      "text/plain": [
       "                p_val  avg_log2FC  pct.1  pct.2      p_val_adj     cluster  \\\n",
       "LYZ     5.629062e-144    1.542476  0.975  0.276  1.124067e-139  MNPa(mono)   \n",
       "S100A9  2.132182e-126    1.785355  0.905  0.149  4.257754e-122  MNPa(mono)   \n",
       "VCAN    1.476268e-118    1.454228  0.760  0.044  2.947959e-114  MNPa(mono)   \n",
       "FCN1    1.039374e-112    1.495729  0.893  0.124  2.075527e-108  MNPa(mono)   \n",
       "S100A8  1.765145e-111    1.804471  0.860  0.100  3.524819e-107  MNPa(mono)   \n",
       "\n",
       "          gene  \n",
       "LYZ        LYZ  \n",
       "S100A9  S100A9  \n",
       "VCAN      VCAN  \n",
       "FCN1      FCN1  \n",
       "S100A8  S100A8  "
      ]
     },
     "execution_count": 11,
     "metadata": {},
     "output_type": "execute_result"
    }
   ],
   "source": [
    "DEGs.head()"
   ]
  },
  {
   "cell_type": "code",
   "execution_count": 12,
   "metadata": {},
   "outputs": [],
   "source": [
    "cond1 = DEGs[\"p_val_adj\"] < 0.05\n",
    "cond2 = DEGs[\"avg_log2FC\"] > 0.1\n",
    "mask = [all(tup) for tup in zip(cond1, cond2)]\n",
    "fDEGs = DEGs[mask]"
   ]
  },
  {
   "cell_type": "code",
   "execution_count": 13,
   "metadata": {},
   "outputs": [],
   "source": [
    "# 1st column = cluster; 2nd column = gene\n",
    "fDEGs = fDEGs[[\"cluster\", \"gene\", \"p_val_adj\", \"p_val\", \"avg_log2FC\", \"pct.1\", \"pct.2\"]]\n",
    "fDEGs.to_csv(degs_file_path, index=False, sep=\"\\t\")"
   ]
  },
  {
   "cell_type": "code",
   "execution_count": 15,
   "metadata": {},
   "outputs": [
    {
     "name": "stdout",
     "output_type": "stream",
     "text": [
      "[ ][CORE][01/11/23-09:27:32][INFO] [Cluster DEGs Analysis] Threshold:0.1 Precision:3\n",
      "Reading user files...\n",
      "WARNING: DEGs expects 2 columns and got 7. Dropping extra columns.\n",
      "The following user files were loaded successfully:\n",
      "/Users/uqztuong/Documents/GitHub/ktplotspy/data/kidneyimmune.h5ad\n",
      "/Users/uqztuong/Documents/GitHub/ktplotspy/data/meta.txt\n",
      "/Users/uqztuong/Documents/GitHub/ktplotspy/data/degs.tsv\n",
      "[ ][CORE][01/11/23-09:27:34][INFO] Running Real Analysis\n",
      "[ ][CORE][01/11/23-09:27:34][INFO] Running DEGs-based Analysis\n",
      "[ ][CORE][01/11/23-09:27:34][INFO] Building results\n",
      "Saved deconvoluted_result to /Users/uqztuong/Documents/GitHub/ktplotspy/data/out_v5_degs/degs_analysis_deconvoluted_result_11_01_2023_092734.txt\n",
      "Saved means_result to /Users/uqztuong/Documents/GitHub/ktplotspy/data/out_v5_degs/degs_analysis_means_result_11_01_2023_092734.txt\n",
      "Saved relevant_interactions_result to /Users/uqztuong/Documents/GitHub/ktplotspy/data/out_v5_degs/degs_analysis_relevant_interactions_result_11_01_2023_092734.txt\n",
      "Saved significant_means to /Users/uqztuong/Documents/GitHub/ktplotspy/data/out_v5_degs/degs_analysis_significant_means_11_01_2023_092734.txt\n"
     ]
    }
   ],
   "source": [
    "from cellphonedb.src.core.methods import cpdb_degs_analysis_method\n",
    "\n",
    "results3 = cpdb_degs_analysis_method.call(\n",
    "    cpdb_file_path=cpdb_file_path,  # mandatory: CellPhoneDB database zip file.\n",
    "    meta_file_path=meta_file_path,  # mandatory: tsv file defining barcodes to cell label.\n",
    "    counts_file_path=counts_file_path,  # mandatory: normalized count matrix.\n",
    "    degs_file_path=degs_file_path,  # mandatory: tsv file with DEG to account.\n",
    "    counts_data=\"hgnc_symbol\",  # defines the gene annotation in counts matrix.\n",
    "    output_path=out_path_degs,  # Path to save results.\n",
    ")"
   ]
  },
  {
   "cell_type": "code",
   "execution_count": 16,
   "metadata": {},
   "outputs": [
    {
     "name": "stdout",
     "output_type": "stream",
     "text": [
      "Reading user files...\n",
      "The following user files were loaded successfully:\n",
      "/Users/uqztuong/Documents/GitHub/ktplotspy/data/kidneyimmune.h5ad\n",
      "/Users/uqztuong/Documents/GitHub/ktplotspy/data/meta.txt\n",
      "[ ][CORE][01/11/23-09:27:42][INFO] [Cluster Statistical Analysis] Threshold:0.1 Iterations:1000 Debug-seed:-1 Threads:4 Precision:3\n",
      "[ ][CORE][01/11/23-09:27:42][INFO] Running Real Analysis\n",
      "[ ][CORE][01/11/23-09:27:42][INFO] Running Statistical Analysis\n"
     ]
    },
    {
     "name": "stderr",
     "output_type": "stream",
     "text": [
      "100%|██████████| 1000/1000 [00:08<00:00, 118.56it/s]"
     ]
    },
    {
     "name": "stdout",
     "output_type": "stream",
     "text": [
      "[ ][CORE][01/11/23-09:27:50][INFO] Building Pvalues result\n"
     ]
    },
    {
     "name": "stderr",
     "output_type": "stream",
     "text": [
      "\n"
     ]
    },
    {
     "name": "stdout",
     "output_type": "stream",
     "text": [
      "[ ][CORE][01/11/23-09:27:50][INFO] Building results\n",
      "Saved deconvoluted to /Users/uqztuong/Documents/GitHub/ktplotspy/data/out_v5_stat/statistical_analysis_deconvoluted_11_01_2023_092750.txt\n",
      "Saved means to /Users/uqztuong/Documents/GitHub/ktplotspy/data/out_v5_stat/statistical_analysis_means_11_01_2023_092750.txt\n",
      "Saved pvalues to /Users/uqztuong/Documents/GitHub/ktplotspy/data/out_v5_stat/statistical_analysis_pvalues_11_01_2023_092750.txt\n",
      "Saved significant_means to /Users/uqztuong/Documents/GitHub/ktplotspy/data/out_v5_stat/statistical_analysis_significant_means_11_01_2023_092750.txt\n"
     ]
    }
   ],
   "source": [
    "from cellphonedb.src.core.methods import cpdb_statistical_analysis_method\n",
    "\n",
    "results3 = cpdb_statistical_analysis_method.call(\n",
    "    cpdb_file_path=cpdb_file_path,  # mandatory: CellPhoneDB database zip file.\n",
    "    meta_file_path=meta_file_path,  # mandatory: tsv file defining barcodes to cell label.\n",
    "    counts_file_path=counts_file_path,  # mandatory: normalized count matrix.\n",
    "    counts_data=\"hgnc_symbol\",  # defines the gene annotation in counts matrix.\n",
    "    output_path=out_path_stat,  # Path to save results.\n",
    ")"
   ]
  },
  {
   "cell_type": "code",
   "execution_count": 19,
   "metadata": {},
   "outputs": [],
   "source": [
    "%%R\n",
    "decon_degs <- read.delim(\"/Users/uqztuong/Documents/GitHub/ktplotspy/data/out_v5_degs/degs_analysis_deconvoluted_result_11_01_2023_092734.txt\", check.names=FALSE)\n",
    "means_degs <- read.delim(\"/Users/uqztuong/Documents/GitHub/ktplotspy/data/out_v5_degs/degs_analysis_means_result_11_01_2023_092734.txt\", check.names=FALSE)\n",
    "rel_int_degs <- read.delim(\"/Users/uqztuong/Documents/GitHub/ktplotspy/data/out_v5_degs/degs_analysis_relevant_interactions_result_11_01_2023_092734.txt\", check.names=FALSE)\n",
    "save(means_degs, rel_int_degs, decon_degs, file = \"/Users/uqztuong/Documents/GitHub/ktplots/data/cpdb_output_degs.RData\")"
   ]
  },
  {
   "cell_type": "code",
   "execution_count": 21,
   "metadata": {},
   "outputs": [],
   "source": [
    "%%R\n",
    "decon_stat <- read.delim(\"/Users/uqztuong/Documents/GitHub/ktplotspy/data/out_v5_stat/statistical_analysis_deconvoluted_11_01_2023_092750.txt\", check.names=FALSE)\n",
    "means_stat <- read.delim(\"/Users/uqztuong/Documents/GitHub/ktplotspy/data/out_v5_stat/statistical_analysis_means_11_01_2023_092750.txt\", check.names=FALSE)\n",
    "pvals_stat <- read.delim(\"/Users/uqztuong/Documents/GitHub/ktplotspy/data/out_v5_stat/statistical_analysis_pvalues_11_01_2023_092750.txt\", check.names=FALSE)\n",
    "save(means_stat, pvals_stat, decon_stat, file = \"/Users/uqztuong/Documents/GitHub/ktplots/data/cpdb_output_stat.RData\")"
   ]
  },
  {
   "cell_type": "code",
   "execution_count": null,
   "metadata": {},
   "outputs": [],
   "source": []
  }
 ],
 "metadata": {
  "kernelspec": {
   "display_name": "ktplots",
   "language": "python",
   "name": "python3"
  },
  "language_info": {
   "codemirror_mode": {
    "name": "ipython",
    "version": 3
   },
   "file_extension": ".py",
   "mimetype": "text/x-python",
   "name": "python",
   "nbconvert_exporter": "python",
   "pygments_lexer": "ipython3",
   "version": "3.11.4"
  },
  "orig_nbformat": 4
 },
 "nbformat": 4,
 "nbformat_minor": 2
}
